{
 "cells": [
  {
   "attachments": {},
   "cell_type": "markdown",
   "metadata": {},
   "source": [
    "## Outils pour la manipulation d'images et librairies.\n"
   ]
  },
  {
   "cell_type": "code",
   "execution_count": 2,
   "metadata": {},
   "outputs": [],
   "source": [
    "import PIL\n",
    "from PIL import Image\n",
    "import numpy as np\n",
    "import scipy as sp\n",
    "import os\n",
    "from math import log10, sqrt\n",
    "\n",
    "def load(filename):\n",
    "    toLoad= Image.open(filename)\n",
    "    return np.asarray(toLoad)\n",
    "\n",
    "\n",
    "def psnr(original, compressed):\n",
    "    mse = np.mean((original - compressed) ** 2)\n",
    "    max_pixel = 255.0\n",
    "    psnr = 20 * log10(max_pixel / sqrt(mse))\n",
    "    return psnr\n",
    "\n",
    "def dct2(a):\n",
    "    return sp.fft.dct( sp.fft.dct( a, axis=0, norm='ortho' ), axis=1, norm='ortho' )\n",
    "\n",
    "def idct2(a):\n",
    "    return sp.fft.idct( sp.fft.idct( a, axis=0 , norm='ortho'), axis=1 , norm='ortho')\n",
    "\n"
   ]
  },
  {
   "attachments": {},
   "cell_type": "markdown",
   "metadata": {},
   "source": [
    "## Normalisation de l'image (YCbCr et padding)"
   ]
  },
  {
   "cell_type": "code",
   "execution_count": 3,
   "metadata": {},
   "outputs": [],
   "source": [
    "def Y(mat):\n",
    "    MatY=np.empty((mat.shape[0],mat .shape [11,1]))\n",
    "    for i in range(mat.shape [0]):\n",
    "     for j in range(mat.shape [1]):\n",
    "      MatY [i,j] = 0.299 *mat [i, j,0] + 0.587*mat [i, j,1]+ 0.114 *mat[i, j,2]\n",
    "    return MatY\n",
    "\n",
    "def Cb(mat):\n",
    "   MatCb=np.empty((mat.shape[0],mat.shape[1],1))\n",
    "   for i in range(mat.shape [0]):\n",
    "    for j in range(mat. shape [1]):\n",
    "     MatCb[1,j] = -0.1687 *mat [i,j,0] - 0.3313*mat[1,j,1]+ 0.5*mat[i,j,2] + 128\n",
    "   return MatCb\n",
    "\n",
    "def Cr(mat):\n",
    "   MatCr = np.empty( (mat. shape [0] , mat. shape [1] ,1))\n",
    "   for i in range(mat.shape [0]):\n",
    "    for j in range(mat.shape [1]):\n",
    "     MatCr[i,j] = 0.5 *mat [i,j,0] - 0.4187*mat [i,j,1]- 0.0813*mat [i,j,2] + 128\n",
    "   return MatCr"
   ]
  },
  {
   "attachments": {},
   "cell_type": "markdown",
   "metadata": {},
   "source": [
    "## Découpage en blocs et compression"
   ]
  },
  {
   "cell_type": "code",
   "execution_count": 4,
   "metadata": {},
   "outputs": [],
   "source": [
    "def RGB(mat) : \n",
    "    pass\n",
    "\n",
    "def YCbCr (mat) :\n",
    "   MatYCbCr = np.empty (mat.shape)\n",
    "   for i in range(mat.shape [0]):\n",
    "    for j in range(mat.shape [1]):\n",
    "     R =0.299 *mat [i,j,0] + 0.587 *mat[i,j,1] + 0.114*mat [i,j,2]\n",
    "     Cb = -0.1687*mat [1,j,0] - 0.3313 *mat[i,j,1] + 0.5*mat [1,j,2] + 128\n",
    "     Cr = 0.5*mat [1,j,0] - 0.4187*mat [1,j,1] - 0.0813*mat [i,j,2] + 128\n",
    "   print (MatYCbCr [0,0])\n",
    "   return MatYCbCr\n",
    "\n",
    "\n",
    "\n",
    "def RGB2 (mat):\n",
    "   MatRGB = np.empty ( (mat.shape [0] , mat. shape [1],3) )\n",
    "   for i in range(mat.shape [0]):\n",
    "    for j in range(mat.shape [1]):\n",
    "     R = mat [i,j,0] + 1.402 *(mat [i,j,2]-128)\n",
    "     G = mat [i,j,0] - 0.34414 *(mat[i,j,1]-128) - 0.71414*(mat [i,j,2]-128)\n",
    "     B = mat[i,j,0] + 1.772*(mat [i,j,1] - 128)\n",
    "     MatRGB[i,j] = (np.uint8(np.clip (R, 0.0,255.0)),np.uint8(np.clip))\n",
    "   return MatRGB \n",
    "\n"
   ]
  },
  {
   "attachments": {},
   "cell_type": "markdown",
   "metadata": {},
   "source": [
    "## Écriture dans un fichier"
   ]
  },
  {
   "cell_type": "code",
   "execution_count": null,
   "metadata": {},
   "outputs": [],
   "source": []
  },
  {
   "attachments": {},
   "cell_type": "markdown",
   "metadata": {},
   "source": [
    "## Décompression"
   ]
  },
  {
   "attachments": {},
   "cell_type": "markdown",
   "metadata": {},
   "source": [
    "## Tests "
   ]
  },
  {
   "cell_type": "code",
   "execution_count": 7,
   "metadata": {},
   "outputs": [
    {
     "ename": "TypeError",
     "evalue": "int() argument must be a string, a bytes-like object or a real number, not 'function'",
     "output_type": "error",
     "traceback": [
      "\u001b[1;31m---------------------------------------------------------------------------\u001b[0m",
      "\u001b[1;31mTypeError\u001b[0m                                 Traceback (most recent call last)",
      "Cell \u001b[1;32mIn[7], line 3\u001b[0m\n\u001b[0;32m      1\u001b[0m test \u001b[39m=\u001b[39m load(\u001b[39m\"\u001b[39m\u001b[39mtest.png\u001b[39m\u001b[39m\"\u001b[39m)\n\u001b[1;32m----> 3\u001b[0m mattest\u001b[39m=\u001b[39mRGB2(test)\n\u001b[0;32m      5\u001b[0m Image\u001b[39m.\u001b[39mfromarray(mattest,\u001b[39m'\u001b[39m\u001b[39mRGB\u001b[39m\u001b[39m'\u001b[39m)\u001b[39m.\u001b[39mshow()\n",
      "Cell \u001b[1;32mIn[4], line 21\u001b[0m, in \u001b[0;36mRGB2\u001b[1;34m(mat)\u001b[0m\n\u001b[0;32m     19\u001b[0m   G \u001b[39m=\u001b[39m mat [i,j,\u001b[39m0\u001b[39m] \u001b[39m-\u001b[39m \u001b[39m0.34414\u001b[39m \u001b[39m*\u001b[39m(mat[i,j,\u001b[39m1\u001b[39m]\u001b[39m-\u001b[39m\u001b[39m128\u001b[39m) \u001b[39m-\u001b[39m \u001b[39m0.71414\u001b[39m\u001b[39m*\u001b[39m(mat [i,j,\u001b[39m2\u001b[39m]\u001b[39m-\u001b[39m\u001b[39m128\u001b[39m)\n\u001b[0;32m     20\u001b[0m   B \u001b[39m=\u001b[39m mat[i,j,\u001b[39m0\u001b[39m] \u001b[39m+\u001b[39m \u001b[39m1.772\u001b[39m\u001b[39m*\u001b[39m(mat [i,j,\u001b[39m1\u001b[39m] \u001b[39m-\u001b[39m \u001b[39m128\u001b[39m)\n\u001b[1;32m---> 21\u001b[0m   MatRGB[i,j] \u001b[39m=\u001b[39m (np\u001b[39m.\u001b[39muint8(np\u001b[39m.\u001b[39mclip (R, \u001b[39m0.0\u001b[39m,\u001b[39m255.0\u001b[39m)),np\u001b[39m.\u001b[39;49muint8(np\u001b[39m.\u001b[39;49mclip))\n\u001b[0;32m     22\u001b[0m \u001b[39mreturn\u001b[39;00m MatRGB\n",
      "\u001b[1;31mTypeError\u001b[0m: int() argument must be a string, a bytes-like object or a real number, not 'function'"
     ]
    }
   ],
   "source": [
    "test = load(\"test.png\")\n",
    "\n",
    "mattest=RGB2(test)\n",
    "\n",
    "Image.fromarray(mattest,'RGB').show()\n"
   ]
  },
  {
   "cell_type": "code",
   "execution_count": null,
   "metadata": {},
   "outputs": [],
   "source": []
  }
 ],
 "metadata": {
  "kernelspec": {
   "display_name": "Python 3",
   "language": "python",
   "name": "python3"
  },
  "language_info": {
   "codemirror_mode": {
    "name": "ipython",
    "version": 3
   },
   "file_extension": ".py",
   "mimetype": "text/x-python",
   "name": "python",
   "nbconvert_exporter": "python",
   "pygments_lexer": "ipython3",
   "version": "3.10.10"
  },
  "orig_nbformat": 4,
  "vscode": {
   "interpreter": {
    "hash": "e5f921d2cbc40cc05b5a24db6ba0e6b62c33b50cc3ec097b0c624e897b5a9797"
   }
  }
 },
 "nbformat": 4,
 "nbformat_minor": 2
}
