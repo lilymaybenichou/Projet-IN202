{
 "cells": [
  {
   "attachments": {},
   "cell_type": "markdown",
   "metadata": {},
   "source": [
    "## Outils pour la manipulation d'images et librairies.\n"
   ]
  },
  {
   "cell_type": "code",
   "execution_count": 12,
   "metadata": {},
   "outputs": [],
   "source": [
    "import PIL\n",
    "from PIL import Image\n",
    "import numpy as np\n",
    "import os\n",
    "from math import log10, sqrt\n",
    "\n",
    "def load(filename):\n",
    "    toLoad= Image.open(filename)\n",
    "    return np.asarray(toLoad)\n",
    "\n",
    "\n",
    "def psnr(original, compressed):\n",
    "    mse = np.mean((original - compressed) ** 2)\n",
    "    max_pixel = 255.0\n",
    "    psnr = 20 * log10(max_pixel / sqrt(mse))\n",
    "    return psnr\n",
    "\n",
    "def dct2(a):\n",
    "    return sp.fft.dct( sp.fft.dct( a, axis=0, norm='ortho' ), axis=1, norm='ortho' )\n",
    "\n",
    "def idct2(a):\n",
    "    return sp.fft.idct( sp.fft.idct( a, axis=0 , norm='ortho'), axis=1 , norm='ortho')\n",
    "\n"
   ]
  },
  {
   "attachments": {},
   "cell_type": "markdown",
   "metadata": {},
   "source": [
    "## Normalisation de l'image (YCbCr et padding)"
   ]
  },
  {
   "cell_type": "code",
   "execution_count": 13,
   "metadata": {},
   "outputs": [],
   "source": [
    "def Y(mat):\n",
    "    MatY = np.empty((mat.shape[0], mat.shape[1], 1))\n",
    "    for i in range(mat.shape[0]):\n",
    "        for j in range(mat.shape[1]):\n",
    "            MatY[i, j] = 0.299 * mat[i, j, 0] + 0.587 * mat[i, j, 1] + 0.114 * mat[i, j, 2]\n",
    "    return MatY\n",
    "\n",
    "def Cb(mat):\n",
    "    MatCb = np.empty((mat.shape[0], mat.shape[1], 1))\n",
    "    for i in range(mat.shape[0]):\n",
    "        for j in range(mat.shape[1]):\n",
    "            MatCb[i, j] = -0.1687 * mat[i, j, 0] - 0.3313 * mat[i, j, 1] + 0.5 * mat[i, j, 2] + 128\n",
    "    return MatCb\n",
    "\n",
    "def Cr(mat):\n",
    "    MatCr = np.empty((mat.shape[0], mat.shape[1], 1))\n",
    "    for i in range(mat.shape[0]):\n",
    "        for j in range(mat.shape[1]):\n",
    "            MatCr[i, j] = 0.5 * mat[i, j, 0] - 0.4187 * mat[i, j, 1] - 0.0813 * mat[i, j, 2] + 128\n",
    "    return MatCr\n",
    "\n",
    "def YCbCr(mat):\n",
    "    MatYCbCr = np.empty(mat.shape)\n",
    "    for i in range(mat.shape[0]):\n",
    "        for j in range(mat.shape[1]):\n",
    "            R = 0.299 * mat[i, j, 0] + 0.587 * mat[i, j, 1] + 0.114 * mat[i, j, 2]\n",
    "            Cb = -0.1687 * mat[i, j, 0] - 0.3313 * mat[i, j, 1] + 0.5 * mat[i, j, 2] + 128\n",
    "            Cr = 0.5 * mat[i, j, 0] - 0.4187 * mat[i, j, 1] - 0.0813 * mat[i, j, 2] + 128\n",
    "            MatYCbCr[i, j] = [R, Cb, Cr]\n",
    "    return MatYCbCr\n",
    "\n",
    "def RGB2(mat):\n",
    "    MatRGB = np.empty((mat.shape[0], mat.shape[1], 3))\n",
    "    for i in range(mat.shape[0]):\n",
    "        for j in range(mat.shape[1]):\n",
    "            R = mat[i, j, 0] + 1.402 * (mat[i, j, 2] - 128)\n",
    "            G = mat[i, j, 0] - 0.34414 * (mat[i, j, 1] - 128) - 0.71414 * (mat[i, j, 2] - 128)\n",
    "            B = mat[i, j, 0] + 1.772 * (mat[i, j, 1] - 128)\n",
    "            MatRGB[i, j] = (np.uint8(np.clip(R, 0.0, 255.0)), np.uint8(np.clip(G, 0.0, 255.0)), np.uint8(np.clip(B, 0.0, 255.0)))\n",
    "    return MatRGB\n",
    "\n",
    "def add_padding(image, pad_size):\n",
    "    if isinstance(pad_size, int):\n",
    "        pad_size = (pad_size, pad_size)  # Si un seul entier est donné, le même padding sera ajouté dans les deux dimensions\n",
    "\n",
    "    padded_image = np.pad(image, ((pad_size[0], pad_size[0]), (pad_size[1], pad_size[1]), (0, 0)), mode='constant')\n",
    "\n",
    "    return padded_image\n",
    "\n",
    "\n",
    "def remove_padding(padded_image, pad_size):\n",
    "    if isinstance(pad_size, int):\n",
    "        pad_size = (pad_size, pad_size)  # Si un seul entier est donné, le même padding sera éliminé dans les deux dimensions\n",
    "\n",
    "    image = padded_image[pad_size[0]:-pad_size[0], pad_size[1]:-pad_size[1], :]\n",
    "\n",
    "    return image"
   ]
  },
  {
   "attachments": {},
   "cell_type": "markdown",
   "metadata": {},
   "source": [
    "## Découpage en blocs et compression"
   ]
  },
  {
   "cell_type": "code",
   "execution_count": 14,
   "metadata": {},
   "outputs": [],
   "source": [
    "# Fonction Matrice sous-echantillonnee \n",
    "#question 4\n",
    "def matrice_sousechantillon(mat):\n",
    "    matrice_se = mat[::2, ::2]\n",
    "    return matrice_se\n",
    "\n",
    "#Question 5\n",
    "def matrice_2d(matrice):\n",
    "    matrice_double = np.repeat(matrice, 2, axis=1)\n",
    "    return matrice_double\n"
   ]
  },
  {
   "attachments": {},
   "cell_type": "markdown",
   "metadata": {},
   "source": [
    "## Écriture dans un fichier"
   ]
  },
  {
   "cell_type": "code",
   "execution_count": 8,
   "metadata": {},
   "outputs": [],
   "source": []
  },
  {
   "attachments": {},
   "cell_type": "markdown",
   "metadata": {},
   "source": [
    "## Décompression"
   ]
  },
  {
   "cell_type": "code",
   "execution_count": null,
   "metadata": {},
   "outputs": [],
   "source": []
  },
  {
   "attachments": {},
   "cell_type": "markdown",
   "metadata": {},
   "source": [
    "## Tests "
   ]
  },
  {
   "cell_type": "code",
   "execution_count": 16,
   "metadata": {},
   "outputs": [],
   "source": [
    "test = load(\"test.png\")\n",
    "Image.fromarray(test,'RGB').show()\n",
    "\n",
    "# Charger l'image\n",
    "image = load(\"test.png\")\n",
    "\n",
    "# Ajouter le padding\n",
    "pad_size = 10\n",
    "padded_image = add_padding(image, pad_size)\n",
    "\n",
    "subsampled_yCbCr = matrice_sousechantillon(YCbCr(padded_image))\n",
    "padded_yCbCr = YCbCr(padded_image)\n",
    "restored_yCbCr = remove_padding(padded_yCbCr, pad_size)\n",
    "\n",
    "subsampled_RGB = matrice_sousechantillon(RGB2(padded_image))\n",
    "padded_RGB = RGB2(padded_image)\n",
    "restored_RGB = remove_padding(padded_RGB, pad_size)\n",
    "\n",
    "\n",
    "test = load(\"test.png\")\n",
    "# Afficher l'image convertie en YCbCr\n",
    "Image.fromarray(restored_yCbCr.astype(np.uint8), 'YCbCr').show()\n",
    "\n",
    "# Afficher l'image convertie en RGB\n",
    "Image.fromarray(restored_RGB.astype(np.uint8), 'RGB').show()\n",
    "\n",
    "# Charger l'image\n",
    "image = Image.open(\"test.png\")\n",
    "image_array = np.array(image)\n",
    "\n",
    "# Sous-échantillonnage\n",
    "subsampled_image = image_array[::2, ::2]\n",
    "\n",
    "# Multiplier par deux la deuxième dimension\n",
    "doubled_image = matrice_2d(subsampled_image)\n",
    "\n",
    "# Afficher les images\n",
    "Image.fromarray(image_array).show()\n",
    "Image.fromarray(subsampled_image).show()\n",
    "Image.fromarray(doubled_image).show()"
   ]
  },
  {
   "cell_type": "code",
   "execution_count": null,
   "metadata": {},
   "outputs": [],
   "source": []
  }
 ],
 "metadata": {
  "kernelspec": {
   "display_name": "Python 3",
   "language": "python",
   "name": "python3"
  },
  "language_info": {
   "codemirror_mode": {
    "name": "ipython",
    "version": 3
   },
   "file_extension": ".py",
   "mimetype": "text/x-python",
   "name": "python",
   "nbconvert_exporter": "python",
   "pygments_lexer": "ipython3",
   "version": "3.10.4"
  },
  "orig_nbformat": 4,
  "vscode": {
   "interpreter": {
    "hash": "e5f921d2cbc40cc05b5a24db6ba0e6b62c33b50cc3ec097b0c624e897b5a9797"
   }
  }
 },
 "nbformat": 4,
 "nbformat_minor": 2
}
